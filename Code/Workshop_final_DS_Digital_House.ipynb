{
 "cells": [
  {
   "cell_type": "markdown",
   "id": "bda055ef",
   "metadata": {},
   "source": [
    "<a id=\"section_CART\"></a> \n",
    "## Workshop Final DS Digital House"
   ]
  },
  {
   "cell_type": "code",
   "execution_count": null,
   "id": "f2e20447-fa04-49f7-9c33-d45a0302436d",
   "metadata": {},
   "outputs": [],
   "source": [
    "import pandas as pd\n",
    "import numpy as np\n",
    "import matplotlib.pyplot as plt\n",
    "import re\n",
    "import seaborn as sns\n",
    "pd.set_option('display.max_columns', None)\n",
    "import missingno as msno\n",
    "#from dataprep.eda import plot, plot_correlation, create_report, plot_missing\n",
    "\n",
    "%matplotlib inline"
   ]
  },
  {
   "cell_type": "markdown",
   "id": "1be4e30a",
   "metadata": {},
   "source": [
    "## Importando os dados"
   ]
  },
  {
   "cell_type": "code",
   "execution_count": null,
   "id": "14215666-b368-48fb-924b-2a312f82d31e",
   "metadata": {},
   "outputs": [],
   "source": [
    "# importando bases de treino e teste\n",
    "df_test = pd.read_csv(r\"../DataSet/test.csv\", low_memory = False)\n",
    "df_train = pd.read_csv(r\"../DataSet/train.csv\", low_memory = False)"
   ]
  },
  {
   "cell_type": "markdown",
   "id": "46feb9d6",
   "metadata": {},
   "source": [
    "## Agrupando os datasets para limpar os dados"
   ]
  },
  {
   "cell_type": "code",
   "execution_count": null,
   "id": "b6043a39-23f4-45c9-994b-f60e060dd44b",
   "metadata": {},
   "outputs": [],
   "source": [
    "# incluindo colunas para sperar os dados da mesma maneira que estavam originalmente\n",
    "df_train['test'] = 0\n",
    "df_test['test'] = 1\n",
    "\n",
    "# incluindo coluna de score com nan nos dados de teste\n",
    "df_test['Credit_Score'] = np.nan"
   ]
  },
  {
   "cell_type": "code",
   "execution_count": null,
   "id": "b017eb56-cef5-4e7c-a259-db1177e62e8f",
   "metadata": {},
   "outputs": [],
   "source": [
    "# concatenando os datasets ja que eles tem as mesmas colunas\n",
    "\n",
    "df_total = pd.concat([df_train, df_test], ignore_index = True)"
   ]
  },
  {
   "cell_type": "code",
   "execution_count": null,
   "id": "7b47c8cf-93dc-43dd-840b-f22b28d11353",
   "metadata": {},
   "outputs": [],
   "source": [
    "print('dados de treino: ', df_train.shape)\n",
    "print('dados de teste: ', df_test.shape)\n",
    "print('todos os dados agrupados: ', df_total.shape)"
   ]
  },
  {
   "cell_type": "markdown",
   "id": "2303b635",
   "metadata": {},
   "source": [
    "## Colunas dataset:\n",
    "\n",
    "* ID - Identificador de entrada\n",
    "* Customer_ID - ID cliente\n",
    "* Month - Mês do ano\n",
    "* Name - nome do cliente\n",
    "* Age - Idade Cliente\n",
    "* SSN - Social Security Number (CPF no Brasil)\n",
    "* Occupation - Ocupação do cliente\n",
    "* Annual_Income - renda anual\n",
    "* Monthly_Inhand_Salary - Salario mensal do cliente\n",
    "* Num_Bank_Accounts - quantidade de contas em bancos\n",
    "* Num_Credit_Card - quantidade de cartões de crédito\n",
    "* Interest_Rate - taxa de juros cartão de crédito\n",
    "* Num_of_Loan - Quantidade de empréstimos feitos no banco\n",
    "* Type_of_Loan - tipo de empréstimo feito pelo cliente\n",
    "* Delay_from_due_date - qtd. de dias de atraso pagamento cartão\n",
    "* Num_of_Delayed_Payment - Média de pagamentos atrasado pelo cliente\n",
    "* Changed_Credit_Limit - Variação percentual de limite do cartão de crédito\n",
    "* Num_Credit_Inquiries - Quantidade de \"cobranças\" no cartão\n",
    "* Credit_Mix - mix de crédito do cliente\n",
    "* Outstanding_Debt - restante à ser pago da dívida\n",
    "* Credit_Utilization_Ratio - Taxa de utlização do cartão de crédito\n",
    "* Credit_History_Age - Tempo de histórico de crédito do cliente\n",
    "* Payment_of_Min_Amount - Pagamento minimo\n",
    "* Total_EMI_per_month - Pagamento fixo em dolares por mes\n",
    "* Amount_invested_monthly - Quantidade de dinheiro investido pelo cliente mensalmente\n",
    "* Payment_Behaviour - Comportamento de pagamento cliente\n",
    "* Monthly_Balance - Saldo Mensal Cliente\n",
    "* Credit_Score - Target\n",
    "* test - coluna utilizada para separar o dataset nos dados de treino e teste"
   ]
  },
  {
   "cell_type": "markdown",
   "id": "ca82a35c",
   "metadata": {},
   "source": [
    "## Checando os principais valores de algumas colunas"
   ]
  },
  {
   "cell_type": "code",
   "execution_count": null,
   "id": "3094570b-97f6-4399-8e02-6a30b5d55492",
   "metadata": {},
   "outputs": [],
   "source": [
    "colunas = df_total.columns\n",
    "\n",
    "for coluna in colunas:\n",
    "    print('Variavel: ', coluna)\n",
    "    print(20*'-')\n",
    "    print(df_total[coluna].value_counts(dropna=False))"
   ]
  },
  {
   "cell_type": "markdown",
   "id": "33f24684",
   "metadata": {},
   "source": [
    "### Observações\n",
    "\n",
    "1. Colunas numéricas com \"_\" ok\n",
    "    * Age,\n",
    "    * Annual_Income,\n",
    "    * Monthly_Inhand_Salary,\n",
    "    * Num_Bank_Accounts,\n",
    "    * Num_Credit_Card,\n",
    "    * Interest_Rate\n",
    "    * Num_of_Loan\n",
    "    * Delay_from_due_date\n",
    "    * Num_of_Delayed_Payment\n",
    "    * Changed_Credit_Limit\n",
    "    * Num_Credit_Inquiries\n",
    "    * Outstanding_Debt\n",
    "    * Credit_Utilization_Ratio\n",
    "    * Total_EMI_per_month\n",
    "    * Amount_invested_monthly\n",
    "    * Monthly_Balance\n",
    "2. SSN #F%$D@*&8 ok\n",
    "3. Occupation _______ ok\n",
    "4. Type_of_Loan - transformar em lista e indexar\n",
    "5. Changed_Credit_Limit \"_\" -> NaN ok\n",
    "6. Credit_Mix \"_\" -> NaN ok\n",
    "7. Credit_History_Age Transformar em qtd. Meses\n",
    "8. Payment_of_Min_Amount \"NM\" -> NaN ok\n",
    "9. Payment_Behaviour \"!@9#%8\" -> NaN e transformar dado ok"
   ]
  },
  {
   "cell_type": "markdown",
   "id": "a4067fb8",
   "metadata": {},
   "source": [
    "## ajustando os campos númericos que estão definidos como string por terem underlines em alguns registros"
   ]
  },
  {
   "cell_type": "code",
   "execution_count": null,
   "id": "18c61aba-01c7-4463-aa45-d8347264b635",
   "metadata": {},
   "outputs": [],
   "source": [
    "# Campos númericos que estão como string - retirar underline dos numeros\n",
    "\n",
    "colunas_ul = ['Age', 'Annual_Income', 'Num_of_Loan', 'Num_of_Delayed_Payment',\n",
    "              'Changed_Credit_Limit', 'Outstanding_Debt', 'Amount_invested_monthly', 'Monthly_Balance']\n",
    "for row in colunas_ul:\n",
    "    df_total[row] = df_total[row].str.replace(r'_+', '')"
   ]
  },
  {
   "cell_type": "markdown",
   "id": "9d28cebe",
   "metadata": {},
   "source": [
    "## Data Wrangling"
   ]
  },
  {
   "cell_type": "code",
   "execution_count": null,
   "id": "cc7e47c7-c875-444a-9e8f-0e9912ba107d",
   "metadata": {},
   "outputs": [],
   "source": [
    "# removendo caracter estranho do SSN\n",
    "df_total['SSN'].replace('#F%$D@*&8', np.NaN, inplace=True)\n",
    "\n",
    "# removendo os underlines e colocando NaN na coluna Occupation\n",
    "df_total['Occupation'].replace('_______', np.NaN, inplace=True)\n",
    "\n",
    "df_total['Changed_Credit_Limit'].replace(['_', ''], np.NaN, inplace=True)\n",
    "\n",
    "df_total['Credit_Mix'].replace('_', np.NaN, inplace=True)\n",
    "\n",
    "df_total['Payment_of_Min_Amount'].replace('NM', np.NaN, inplace=True)\n",
    "\n",
    "df_total['Payment_Behaviour'].replace('!@9#%8', np.NaN, inplace=True)"
   ]
  },
  {
   "cell_type": "code",
   "execution_count": null,
   "id": "e26b9bf0-6f9b-4b54-8aba-044d09065ed1",
   "metadata": {},
   "outputs": [],
   "source": [
    "# convertendo Credit_History_Age em quantidade de meses\n",
    "def converter_mes(x):\n",
    "    if pd.notnull(x):\n",
    "        ano = int(x.split(' ')[0])\n",
    "        mes = int(x.split(' ')[3])\n",
    "        return (ano*12)+mes\n",
    "    else:\n",
    "        return x\n",
    "\n",
    "df_total['Credit_History_age'] = df_total['Credit_History_Age'].apply(lambda x: converter_mes(x)).astype(float)"
   ]
  },
  {
   "cell_type": "code",
   "execution_count": null,
   "id": "07f62e9c-08e3-47db-b61f-0d688c631abb",
   "metadata": {},
   "outputs": [],
   "source": [
    "df_total['Type_of_Loan_ajustado'] = df_total['Type_of_Loan'].replace(\"[abc]* and \", \" \", regex=True)"
   ]
  },
  {
   "cell_type": "code",
   "execution_count": null,
   "id": "ac6fda0a-5e14-4540-a353-70cd2de3e718",
   "metadata": {},
   "outputs": [],
   "source": [
    "# Esta função define a quantidade % de dados faltantes\n",
    "def plot_nas(df: pd.DataFrame):\n",
    "    if df.isnull().sum().sum() != 0:\n",
    "        na_df = (df.isnull().sum() / len(df)) * 100      \n",
    "        na_df = na_df.drop(na_df[na_df == 0].index).sort_values(ascending=False)\n",
    "        missing_data = pd.DataFrame({'Missing Ratio %' :na_df})\n",
    "        missing_data.plot(kind = \"barh\")\n",
    "        plt.title(\"% de dados faltantes\")\n",
    "        plt.show()\n",
    "    else:\n",
    "        print('No NAs found')\n",
    "        \n",
    "plot_nas(df_total)"
   ]
  },
  {
   "cell_type": "code",
   "execution_count": null,
   "id": "3bfd9a8b",
   "metadata": {},
   "outputs": [],
   "source": [
    "df_total.info()"
   ]
  },
  {
   "cell_type": "code",
   "execution_count": null,
   "id": "15b81b1e-8992-4806-9e28-5b45f5251e36",
   "metadata": {},
   "outputs": [],
   "source": [
    "#criando dicionario e convertendo os dados\n",
    "\n",
    "dicionario_conversao = {\n",
    "    'Age': int,\n",
    "    'Num_Bank_Accounts': int,\n",
    "    'Num_Credit_Card': int,\n",
    "    'Num_of_Loan': int,\n",
    "    'Annual_Income' : float,\n",
    "    'Monthly_Inhand_Salary' : float,\n",
    "    'Interest_Rate' : float,\n",
    "    'Delay_from_due_date' : float,\n",
    "    'Changed_Credit_Limit' : float,\n",
    "    'Num_Credit_Inquiries' : float,\n",
    "    'Outstanding_Debt' : float,\n",
    "    'Credit_Utilization_Ratio' : float,\n",
    "    'Amount_invested_monthly' : float,\n",
    "    'Total_EMI_per_month' : float,\n",
    "    'Num_of_Delayed_Payment' : float,\n",
    "    'ID' : object,\n",
    "    'Customer_ID' : object,\n",
    "    'Name' : object,\n",
    "    'Month' : object,\n",
    "    'SSN' : object,\n",
    "    'Type_of_Loan' : object,\n",
    "    'Occupation' : object,\n",
    "    'Credit_Mix' : object,\n",
    "    'Payment_of_Min_Amount' : object,\n",
    "    'Payment_Behaviour' : object,\n",
    "    'test' : object\n",
    "    }\n",
    "# aplicando as type para variaveis\n",
    "\n",
    "df_total = df_total.astype(dicionario_conversao)"
   ]
  },
  {
   "cell_type": "code",
   "execution_count": null,
   "id": "26fada27",
   "metadata": {},
   "outputs": [],
   "source": [
    "df_total.head()"
   ]
  },
  {
   "cell_type": "markdown",
   "id": "ef78dd3c",
   "metadata": {},
   "source": [
    "### Data cleaning - Age\n",
    "\n",
    " * Limitando a idade dos clientes de 0 a 100"
   ]
  },
  {
   "cell_type": "code",
   "execution_count": null,
   "id": "6ced5437",
   "metadata": {},
   "outputs": [],
   "source": [
    "df_total = df_total[(df_total['Age'] <= 100) & (df_total['Age'] >= 0)]\n",
    "\n",
    "sns.boxplot(data=df_total, y='Age', x='test')\n",
    "\n",
    "print(df_total.Age.describe())"
   ]
  },
  {
   "cell_type": "markdown",
   "id": "6ee0e3df",
   "metadata": {},
   "source": [
    "### Concentração por tipo de ocupação"
   ]
  },
  {
   "cell_type": "code",
   "execution_count": null,
   "id": "245cb858",
   "metadata": {},
   "outputs": [],
   "source": [
    "sns.countplot(data=df_total, x = 'Occupation')\n",
    "plt.xticks(rotation=90)\n",
    "plt.show()"
   ]
  },
  {
   "cell_type": "code",
   "execution_count": null,
   "id": "3f4a0957",
   "metadata": {},
   "outputs": [],
   "source": [
    "f, ax = plt.subplots(figsize = (12, 10))\n",
    "sns.boxplot(data = df_total, y = 'Age', x = 'Occupation')\n",
    "plt.xticks(rotation = 90)\n",
    "plt.title('Distribuição Idade x Ocupação', size = 20)\n",
    "plt.xlabel('Ocupação')\n",
    "plt.ylabel('Idade')\n",
    "plt.show()"
   ]
  },
  {
   "cell_type": "code",
   "execution_count": null,
   "id": "f0891c3d",
   "metadata": {},
   "outputs": [],
   "source": [
    "f, ax = plt.subplots(figsize = (12, 10))\n",
    "sns.boxplot(data = df_total, y = 'Num_Bank_Accounts', x = 'Occupation')\n",
    "plt.xticks(rotation = 90)\n",
    "plt.title('Distribuição Idade x Ocupação', size = 20)\n",
    "plt.xlabel('Ocupação')\n",
    "plt.ylabel('Idade')\n",
    "plt.show()\n",
    "print(df_total.Num_Bank_Accounts.describe())"
   ]
  },
  {
   "cell_type": "code",
   "execution_count": null,
   "id": "f0891c3d",
   "metadata": {},
   "outputs": [],
   "source": [
    "f, ax = plt.subplots(figsize = (12, 10))\n",
    "sns.boxplot(data = df_total, y = 'Delay_from_due_date', x = 'Occupation')\n",
    "plt.xticks(rotation = 90)\n",
    "plt.title('Distribuição dias de atraso x Ocupação', size = 20)\n",
    "plt.xlabel('Ocupação')\n",
    "plt.ylabel('dias de atraso')\n",
    "plt.show()\n",
    "print(df_total.Delay_from_due_date.describe())"
   ]
  },
  {
   "cell_type": "code",
   "execution_count": null,
   "id": "86907e45",
   "metadata": {},
   "outputs": [],
   "source": [
    "df_total.columns"
   ]
  },
  {
   "cell_type": "code",
   "execution_count": null,
   "id": "f0891c3d",
   "metadata": {},
   "outputs": [],
   "source": [
    "f, ax = plt.subplots(figsize = (12, 10))\n",
    "sns.boxplot(data = df_total, y = 'Num_Credit_Card', x = 'Occupation')\n",
    "plt.xticks(rotation = 90)\n",
    "plt.title('Distribuição Qtd. Cartão de Crédito x Ocupação', size = 20)\n",
    "plt.xlabel('Ocupação')\n",
    "plt.ylabel('Qtd. Cartão de Crédito')\n",
    "plt.show()\n",
    "print(df_total.Num_Credit_Card.describe())"
   ]
  },
  {
   "cell_type": "code",
   "execution_count": null,
   "id": "8c37f7b3",
   "metadata": {},
   "outputs": [],
   "source": [
    "f, ax = plt.subplots(figsize = (12, 10))\n",
    "sns.boxplot(data = df_total, y = 'Num_Bank_Accounts', x = 'Occupation')\n",
    "plt.xticks(rotation = 90)\n",
    "plt.title('Distribuição Qtd. Contas x Ocupação', size = 20)\n",
    "plt.xlabel('Ocupação')\n",
    "plt.ylabel('Qtd. Contas')\n",
    "plt.show()\n",
    "print(df_total.Num_Bank_Accounts.describe())"
   ]
  },
  {
   "cell_type": "code",
   "execution_count": null,
   "id": "8c37f7b3",
   "metadata": {},
   "outputs": [],
   "source": [
    "f, ax = plt.subplots(figsize = (12, 10))\n",
    "sns.boxplot(data = df_total, y = 'Num_of_Loan', x = 'Occupation')\n",
    "plt.xticks(rotation = 90)\n",
    "plt.title('Distribuição Qtd. Empréstimos x Ocupação', size = 20)\n",
    "plt.xlabel('Ocupação')\n",
    "plt.ylabel('Qtd. Empréstimos')\n",
    "plt.show()\n",
    "print(df_total.Num_of_Loan.describe())"
   ]
  },
  {
   "cell_type": "code",
   "execution_count": null,
   "id": "c5fa39f0",
   "metadata": {},
   "outputs": [],
   "source": [
    "\"\"\"\n",
    "numCols = df_total.select_dtypes([np.number]).columns\n",
    "\n",
    "for col in numCols:\n",
    "    fig, ax = plt.subplots(1, 2, figsize = (8,8))\n",
    "    sns.boxplot(data=df_total, y=col, x = 'Credit_Score', ax=ax[0]) #color = ['#f5190a', '#1e9e19', '#dede16'])\n",
    "    #sns.scatterplot(data=df_total,x = 'Credit_Score', y = s = 100, y=col, ax=ax[1], color ='#ee1199')\n",
    "    plt.show()\n",
    "\"\"\""
   ]
  },
  {
   "cell_type": "code",
   "execution_count": null,
   "id": "27f24941-fad9-4589-918c-3a04e1d74f27",
   "metadata": {},
   "outputs": [],
   "source": [
    "msno.bar(df_total)"
   ]
  },
  {
   "cell_type": "code",
   "execution_count": null,
   "id": "33f85762-4e39-4fa8-a249-da70c9fef4ad",
   "metadata": {},
   "outputs": [],
   "source": [
    "sns.factorplot('Credit_Score', col = 'Occupation', data = df_total, kind = 'count', col_wrap = 4)"
   ]
  },
  {
   "cell_type": "code",
   "execution_count": null,
   "id": "565407d5-95f0-41f1-a5ea-920ad12255d4",
   "metadata": {},
   "outputs": [],
   "source": [
    "grid = sns.FacetGrid(df_total, col = 'Credit_Score')\n",
    "grid.map(sns.distplot, 'Monthly_Inhand_Salary')"
   ]
  },
  {
   "cell_type": "code",
   "execution_count": null,
   "id": "2313ddb5-aa38-47a7-a6bc-e489ff83761a",
   "metadata": {},
   "outputs": [],
   "source": [
    "label = df_total.Credit_Score.value_counts().index\n",
    "label_count = df_total.Credit_Score.value_counts().values\n",
    "plt.figure(figsize=(3,3))\n",
    "plt.pie(data=df_total, x=label_count, labels=label, autopct='%.2f', shadow=True, radius=1.5)\n",
    "plt.title(\"Credit Score Pie Chart\")\n",
    "plt.show()"
   ]
  },
  {
   "cell_type": "code",
   "execution_count": null,
   "id": "f4510055-eba1-4850-9a05-89ed30e3e527",
   "metadata": {},
   "outputs": [],
   "source": [
    "#plot(df_total,'Occupation','Credit_Score')"
   ]
  },
  {
   "cell_type": "code",
   "execution_count": null,
   "id": "f520e3c1-9d9c-48cf-8e88-7dfe4d0eb6c7",
   "metadata": {},
   "outputs": [],
   "source": [
    "#plot(df_total,'Age','Credit_Score')"
   ]
  },
  {
   "cell_type": "code",
   "execution_count": null,
   "id": "aa05612a-1b62-49c1-866a-286b285693eb",
   "metadata": {},
   "outputs": [],
   "source": [
    "plt.figure(figsize=(17,8))\n",
    "sns.heatmap(df_total.corr(),annot=True,cmap='viridis')"
   ]
  },
  {
   "cell_type": "code",
   "execution_count": null,
   "id": "1751d40a-c10b-4903-9cbe-127b899ec1ea",
   "metadata": {},
   "outputs": [],
   "source": [
    "plt.figure(figsize=(25,6))\n",
    "sns.violinplot(x='Payment_Behaviour',y='Age',data=df_total, hue='Credit_Score', palette='rainbow')\n",
    "plt.title(\"Violin Plot of Payment Behaviour by Age, Separated by Credit Score\")"
   ]
  },
  {
   "cell_type": "code",
   "execution_count": null,
   "id": "eabd9ec5-c95e-415d-8ebd-aa02b7735020",
   "metadata": {},
   "outputs": [],
   "source": [
    "plt.figure(figsize=(25,6))\n",
    "sns.violinplot(x='Payment_Behaviour',y='Credit_Utilization_Ratio',data=df_total, hue='Credit_Score', palette='rainbow')\n",
    "plt.title(\"Violin Plot of Payment Behaviour by Credit Utilization Ratio, Separated by Credit Score\")"
   ]
  },
  {
   "cell_type": "code",
   "execution_count": null,
   "id": "8871fbc0-9cfd-40ca-898f-d0414bd34b24",
   "metadata": {},
   "outputs": [],
   "source": [
    "plt.figure(figsize=(59,1))\n",
    "sns.displot(data=df_total, x=\"Credit_Utilization_Ratio\", kde=True)"
   ]
  },
  {
   "cell_type": "code",
   "execution_count": null,
   "id": "dbf3f791-5ea5-43ec-90cb-b27c48ae61b7",
   "metadata": {},
   "outputs": [],
   "source": [
    "numCols = ['Monthly_Inhand_Salary', 'Delay_from_due_date', 'Credit_Utilization_Ratio']\n",
    "\n",
    "for col in numCols:\n",
    "    plt.figure(figsize=(180,6))\n",
    "    sns.displot(x=col,data=df_total, hue='Credit_Score', palette=[\"#ff006e\", \"#83c5be\", \"#3a0ca3\"])\n",
    "    plt.show()"
   ]
  },
  {
   "cell_type": "code",
   "execution_count": null,
   "id": "8563bf37",
   "metadata": {},
   "outputs": [],
   "source": [
    "#DataPrep at its finest pra visualizar tudo, tirar insights, as distribuições, missing data zeros, etc e etc\n",
    "# create_report(df_total)"
   ]
  },
  {
   "cell_type": "code",
   "execution_count": null,
   "id": "c8c1deec",
   "metadata": {},
   "outputs": [],
   "source": [
    "# convertendo mes para encoding\n",
    "\n",
    "import datetime\n",
    "\n",
    "df_total['Month'] = df_total['Month'].apply(lambda x: datetime.datetime.strptime(x, '%B').month)"
   ]
  },
  {
   "cell_type": "code",
   "execution_count": null,
   "id": "12a86892",
   "metadata": {},
   "outputs": [],
   "source": [
    "# pegando indices\n",
    "\n",
    "df2 = df_total.groupby([\"Customer_ID\"])[\"Month\"].nlargest(1)\n",
    "\n",
    "# list comprehension para pegar os indices\n",
    "\n",
    "indice_final = [i[1] for i in df2.index.values]\n",
    "\n",
    "# filtrando indices\n",
    "\n",
    "df_total = df_total.loc[indice_final]\n"
   ]
  },
  {
   "cell_type": "markdown",
   "id": "87fb1137",
   "metadata": {},
   "source": [
    "### Seleção de Features e Feature Importance"
   ]
  },
  {
   "cell_type": "code",
   "execution_count": null,
   "id": "17487f77",
   "metadata": {},
   "outputs": [],
   "source": [
    "#Dropar colunas inúteis (ids etc) e Changed Credit Limit e Credi History Age (vide heatmap)\n",
    "\n",
    "#ExtraTreeClassifier para usar método feature_importances_\n",
    "\n",
    "#Logistic regression do statsmodels para usar os testes de hipótese do método summary()\n",
    "\n",
    "#Técnicas de feature selection da última aula sobre o tema\n",
    "\n",
    "#Checar variância de cada feature\n",
    "# pd.options.display.float_format = '{:.6f}'.format\n",
    "# df_heart.apply(np.var).sort_values(ascending = False)[ : 8]\n",
    "\n",
    "#Tentar usar o VIF (pode ser interessante ou inútil)"
   ]
  },
  {
   "cell_type": "code",
   "execution_count": null,
   "id": "8c97aaa3",
   "metadata": {},
   "outputs": [],
   "source": [
    "# colunas para dropar"
   ]
  },
  {
   "cell_type": "code",
   "execution_count": null,
   "id": "91970701",
   "metadata": {},
   "outputs": [],
   "source": [
    "## Modelo Statsmodels teste de hipótese\n",
    "\n",
    "import statsmodels.api as sm\n",
    "\n",
    "df2 = df_total.copy()\n",
    "df2 = df2.drop(['ID', 'Customer_ID', 'Name', 'Age', 'SSN', 'Type_of_Loan', 'Type_of_Loan_ajustado', 'Credit_History_Age', 'Changed_Credit_Limit', 'Credit_Utilization_Ratio',\n",
    "                'Monthly_Inhand_Salary', 'Num_of_Delayed_Payment', 'Num_Credit_Inquiries', 'Amount_invested_monthly', 'Monthly_Balance', 'Credit_History_age'], axis=1)\n",
    "\n",
    "X_train = df2[df2['test'] == 0].drop(['Credit_Score', 'test'], axis = 1)\n",
    "X_test = df2[df2['test'] == 1].drop(['Credit_Score', 'test'], axis = 1)\n",
    "\n",
    "X_train = pd.get_dummies(X_train, columns=['Occupation', 'Month', 'Credit_Mix', 'Payment_of_Min_Amount', 'Payment_Behaviour'], drop_first=True)\n",
    "X_test = pd.get_dummies(X_test, columns=['Occupation', 'Month', 'Credit_Mix', 'Payment_of_Min_Amount', 'Payment_Behaviour'], drop_first=True)\n",
    "\n",
    "from sklearn.preprocessing import OrdinalEncoder\n",
    "ordenc = OrdinalEncoder()\n",
    "\n",
    "y_train = df2[df2['test'] == 0]['Credit_Score']\n",
    "y_test = df2[df2['test'] == 1]['Credit_Score']\n",
    "\n",
    "y_train = ordenc.fit_transform(y_train.values.reshape(-1,1))\n",
    "y_test = y_test.replace(np.NaN, 0)\n",
    "\n",
    "# X_train = sm.add_constant(X_train)\n",
    "# X_test = sm.add_constant(X_test)\n",
    "\n",
    "model = sm.OLS(y_train, X_train)\n",
    "non_reg_OLS = model.fit()\n",
    "non_reg_OLS.summary()"
   ]
  },
  {
   "cell_type": "code",
   "execution_count": null,
   "id": "57464e20",
   "metadata": {},
   "outputs": [],
   "source": [
    "#VIF\n",
    "def calc_vif(data):\n",
    "    vif_df = pd.DataFrame(columns=['Var', 'VIF'])\n",
    "    x_var_names = data.columns\n",
    "    \n",
    "    for i in range(0, x_var_names.shape[0]):\n",
    "        y = data[x_var_names[i]]\n",
    "        x = data[x_var_names.drop(x_var_names[i])]\n",
    "        r2 = sm.OLS(y, x).fit().rsquared\n",
    "        vif = round(1/(1-r2),3)\n",
    "        vif_df.loc[i] = [x_var_names[i], vif]\n",
    "    return vif_df.sort_values(by='VIF',axis = 0, ascending=False, inplace=False)\n",
    "\n",
    "calc_vif(X_train)"
   ]
  },
  {
   "cell_type": "code",
   "execution_count": null,
   "id": "4f872453",
   "metadata": {},
   "outputs": [],
   "source": [
    "plt.figure(figsize=(30,18))\n",
    "sns.heatmap(X_train.corr(),annot=True,cmap='viridis')"
   ]
  },
  {
   "cell_type": "code",
   "execution_count": null,
   "id": "c9e228fb",
   "metadata": {},
   "outputs": [],
   "source": [
    "#ExtraTreeClassifier para feature_importances_\n",
    "\n",
    "from sklearn.tree import ExtraTreeClassifier\n",
    "\n",
    "xtc = ExtraTreeClassifier()\n",
    "xtc.fit(X_train, y_train)\n",
    "feat_importance = pd.Series(xtc.feature_importances_, index=X_train.columns).sort_values(ascending=False)\n",
    "\n",
    "plt.figure(figsize=(20,8))\n",
    "feat_importance.plot(kind='bar')"
   ]
  },
  {
   "cell_type": "markdown",
   "id": "32bb6bbb",
   "metadata": {},
   "source": [
    "##### - Inputação de Dados"
   ]
  },
  {
   "cell_type": "code",
   "execution_count": null,
   "id": "162f22c4",
   "metadata": {},
   "outputs": [],
   "source": [
    "# escolher colunas para inputar e as formas de fazê-lo"
   ]
  },
  {
   "cell_type": "markdown",
   "id": "76c6aa85",
   "metadata": {},
   "source": [
    "### Pré-processamento para modelagem"
   ]
  },
  {
   "cell_type": "code",
   "execution_count": null,
   "id": "7308dc55",
   "metadata": {},
   "outputs": [],
   "source": [
    "#Testar dados normalizados e/ou padronizados de formas diferentes (MinMax, Standard, Robust, sem normalizar, etc)\n",
    "\n",
    "#Encoding (OneHot, Dummy, Label, Ordinary etc)\n",
    "\n"
   ]
  },
  {
   "cell_type": "markdown",
   "id": "82fa96e4",
   "metadata": {},
   "source": [
    "### Modelagem"
   ]
  },
  {
   "cell_type": "code",
   "execution_count": null,
   "id": "352ea195",
   "metadata": {},
   "outputs": [],
   "source": [
    "# modelos referência (random ou dummy classifier), base (random forest com plot, extratrees, XGBoost, rede neural simples) e ensembles (stacking de xgboost com )"
   ]
  }
 ],
 "metadata": {
  "kernelspec": {
   "display_name": "Python 3.8.5 ('base')",
   "language": "python",
   "name": "python3"
  },
  "language_info": {
   "codemirror_mode": {
    "name": "ipython",
    "version": 3
   },
   "file_extension": ".py",
   "mimetype": "text/x-python",
   "name": "python",
   "nbconvert_exporter": "python",
   "pygments_lexer": "ipython3",
   "version": "3.8.5"
  },
  "vscode": {
   "interpreter": {
    "hash": "a14e26651eb403ca465dd1ef7879063f8370318b38b691101b0a69f98ffc3667"
   }
  }
 },
 "nbformat": 4,
 "nbformat_minor": 5
}
