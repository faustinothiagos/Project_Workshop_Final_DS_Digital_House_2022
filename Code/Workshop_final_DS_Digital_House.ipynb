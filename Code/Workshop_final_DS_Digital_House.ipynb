{
 "cells": [
  {
   "cell_type": "markdown",
   "metadata": {},
   "source": [
    "<a id=\"section_CART\"></a> \n",
    "## Workshop Final DS Digital House"
   ]
  },
  {
   "cell_type": "code",
   "execution_count": 1,
   "metadata": {},
   "outputs": [],
   "source": [
    "import pandas as pd\n",
    "import numpy as np\n",
    "import matplotlib.pyplot as plt\n",
    "import re\n",
    "import seaborn as sns\n",
    "pd.set_option('display.max_columns', None)\n",
    "\n",
    "%matplotlib inline"
   ]
  },
  {
   "cell_type": "markdown",
   "metadata": {},
   "source": [
    "## Importando os dados"
   ]
  },
  {
   "cell_type": "code",
   "execution_count": 3,
   "metadata": {},
   "outputs": [
    {
     "name": "stderr",
     "output_type": "stream",
     "text": [
      "c:\\Users\\Luquinhas\\anaconda3\\lib\\site-packages\\IPython\\core\\interactiveshell.py:3146: DtypeWarning: Columns (26) have mixed types.Specify dtype option on import or set low_memory=False.\n",
      "  has_raised = await self.run_ast_nodes(code_ast.body, cell_name,\n"
     ]
    }
   ],
   "source": [
    "# importando bases de treino e teste\n",
    "df_test = pd.read_csv(r'https://raw.githubusercontent.com/faustinothiagos/Workshop_Final_DS_Digital_House_2022/main/DataSet/test.csv')\n",
    "df_train = pd.read_csv(r'https://raw.githubusercontent.com/faustinothiagos/Workshop_Final_DS_Digital_House_2022/main/DataSet/train.csv')"
   ]
  },
  {
   "cell_type": "markdown",
   "metadata": {},
   "source": [
    "## Agrupando os datasets para limpar os dados"
   ]
  },
  {
   "cell_type": "code",
   "execution_count": 4,
   "metadata": {},
   "outputs": [],
   "source": [
    "# incluindo colunas para sperar os dados da mesma maneira que estavam originalmente\n",
    "df_train['test'] = 0\n",
    "df_test['test'] = 1\n",
    "\n",
    "# incluindo coluna de score com nan nos dados de teste\n",
    "df_test['Credit_Score'] = np.nan"
   ]
  },
  {
   "cell_type": "code",
   "execution_count": 5,
   "metadata": {},
   "outputs": [],
   "source": [
    "# concatenando os datasets ja que eles tem as mesmas colunas\n",
    "\n",
    "df_total = pd.concat([df_train, df_test], ignore_index = True)"
   ]
  },
  {
   "cell_type": "code",
   "execution_count": 6,
   "metadata": {},
   "outputs": [
    {
     "name": "stdout",
     "output_type": "stream",
     "text": [
      "dados de treino:  (100000, 29)\n",
      "dados de teste:  (50000, 29)\n",
      "todos os dados agrupados:  (150000, 29)\n"
     ]
    }
   ],
   "source": [
    "print('dados de treino: ', df_train.shape)\n",
    "print('dados de teste: ', df_test.shape)\n",
    "print('todos os dados agrupados: ', df_total.shape)"
   ]
  },
  {
   "cell_type": "markdown",
   "metadata": {},
   "source": [
    "## Colunas dataset:\n",
    "\n",
    "* ID - Identificador de entrada\n",
    "* Customer_ID - ID cliente\n",
    "* Month - Mês do ano\n",
    "* Name - nome do cliente\n",
    "* Age - Idade Cliente\n",
    "* SSN - Social Security Number (CPF no Brasil)\n",
    "* Occupation - Ocupação do cliente\n",
    "* Annual_Income - renda anual\n",
    "* Monthly_Inhand_Salary - Salario mensal do cliente\n",
    "* Num_Bank_Accounts - quantidade de contas em bancos\n",
    "* Num_Credit_Card - quantidade de cartões de crédito\n",
    "* Interest_Rate - taxa de juros cartão de crédito\n",
    "* Num_of_Loan - Quantidade de empréstimos feitos no banco\n",
    "* Type_of_Loan - tipo de empréstimo feito pelo cliente\n",
    "* Delay_from_due_date - qtd. de dias de atraso pagamento cartão\n",
    "* Num_of_Delayed_Payment - Média de pagamentos atrasado pelo cliente\n",
    "* Changed_Credit_Limit - Variação percentual de limite do cartão de crédito\n",
    "* Num_Credit_Inquiries - Quantidade de \"cobranças\" no cartão\n",
    "* Credit_Mix - mix de crédito do cliente\n",
    "* Outstanding_Debt - restante à ser pago da dívida\n",
    "* Credit_Utilization_Ratio - Taxa de utlização do cartão de crédito\n",
    "* Credit_History_Age - Tempo de histórico de crédito do cliente\n",
    "* Payment_of_Min_Amount - Pagamento minimo\n",
    "* Total_EMI_per_month - Pagamento fixo em dolares por mes\n",
    "* Amount_invested_monthly - Quantidade de dinheiro investido pelo cliente mensalmente\n",
    "* Payment_Behaviour - Comportamento de pagamento cliente\n",
    "* Monthly_Balance - Saldo Mensal Cliente\n",
    "* Credit_Score - Target\n",
    "* test - coluna utilizada para separar o dataset nos dados de treino e teste"
   ]
  },
  {
   "cell_type": "code",
   "execution_count": 2,
   "metadata": {},
   "outputs": [],
   "source": [
    "# Esta função define a quantidade % de dados faltantes\n",
    "def plot_nas(df: pd.DataFrame):\n",
    "    if df.isnull().sum().sum() != 0:\n",
    "        na_df = (df.isnull().sum() / len(df)) * 100      \n",
    "        na_df = na_df.drop(na_df[na_df == 0].index).sort_values(ascending=False)\n",
    "        missing_data = pd.DataFrame({'Missing Ratio %' :na_df})\n",
    "        missing_data.plot(kind = \"barh\")\n",
    "        plt.title(\"% de dados faltantes\")\n",
    "        plt.show()\n",
    "    else:\n",
    "        print('No NAs found')"
   ]
  },
  {
   "cell_type": "markdown",
   "metadata": {},
   "source": [
    "## Checando os principais valores de algumas colunas"
   ]
  },
  {
   "cell_type": "code",
   "execution_count": 8,
   "metadata": {},
   "outputs": [
    {
     "name": "stdout",
     "output_type": "stream",
     "text": [
      "Variavel:  ID\n",
      "--------------------\n",
      "0x6470     1\n",
      "0xddab     1\n",
      "0x17832    1\n",
      "0x125d2    1\n",
      "0x1f57b    1\n",
      "          ..\n",
      "0x1a1a4    1\n",
      "0x10557    1\n",
      "0x1a955    1\n",
      "0x19cf5    1\n",
      "0x15db2    1\n",
      "Name: ID, Length: 150000, dtype: int64\n",
      "Variavel:  Customer_ID\n",
      "--------------------\n",
      "CUS_0x80ed    12\n",
      "CUS_0x4edc    12\n",
      "CUS_0x534a    12\n",
      "CUS_0x3fe8    12\n",
      "CUS_0x5049    12\n",
      "              ..\n",
      "CUS_0xb808    12\n",
      "CUS_0x2f86    12\n",
      "CUS_0x353a    12\n",
      "CUS_0x5909    12\n",
      "CUS_0xa46c    12\n",
      "Name: Customer_ID, Length: 12500, dtype: int64\n",
      "Variavel:  Month\n",
      "--------------------\n",
      "May          12500\n",
      "April        12500\n",
      "January      12500\n",
      "February     12500\n",
      "March        12500\n",
      "June         12500\n",
      "December     12500\n",
      "October      12500\n",
      "November     12500\n",
      "July         12500\n",
      "August       12500\n",
      "September    12500\n",
      "Name: Month, dtype: int64\n",
      "Variavel:  Name\n",
      "--------------------\n",
      "NaN                 15000\n",
      "Stevex                 66\n",
      "Langep                 65\n",
      "Jessicad               59\n",
      "Raymondr               58\n",
      "                    ...  \n",
      "Charlie Zhum            7\n",
      "\"John ODonnell\"q        7\n",
      "Bohany                  7\n",
      "Paul Sv                 7\n",
      "Timothyl                6\n",
      "Name: Name, Length: 10140, dtype: int64\n",
      "Variavel:  Age\n",
      "--------------------\n",
      "39      4198\n",
      "32      4189\n",
      "28      4173\n",
      "26      4140\n",
      "35      4130\n",
      "        ... \n",
      "2441       1\n",
      "2824       1\n",
      "8299       1\n",
      "4718       1\n",
      "7449       1\n",
      "Name: Age, Length: 2524, dtype: int64\n",
      "Variavel:  SSN\n",
      "--------------------\n",
      "#F%$D@*&8      8400\n",
      "054-04-4459      12\n",
      "329-64-3575      12\n",
      "630-80-7645      12\n",
      "335-49-3815      12\n",
      "               ... \n",
      "695-71-7676       7\n",
      "093-84-7831       7\n",
      "917-01-2750       7\n",
      "803-44-6289       7\n",
      "642-73-7670       6\n",
      "Name: SSN, Length: 12501, dtype: int64\n",
      "Variavel:  Occupation\n",
      "--------------------\n",
      "_______          10500\n",
      "Lawyer            9899\n",
      "Engineer          9562\n",
      "Architect         9550\n",
      "Mechanic          9459\n",
      "Accountant        9404\n",
      "Scientist         9403\n",
      "Developer         9381\n",
      "Media_Manager     9362\n",
      "Teacher           9318\n",
      "Entrepreneur      9277\n",
      "Journalist        9122\n",
      "Doctor            9114\n",
      "Manager           8973\n",
      "Musician          8858\n",
      "Writer            8818\n",
      "Name: Occupation, dtype: int64\n",
      "Variavel:  Annual_Income\n",
      "--------------------\n",
      "36585.12      24\n",
      "95596.35      23\n",
      "17816.75      23\n",
      "9141.63       23\n",
      "20867.67      23\n",
      "              ..\n",
      "29346.17_      1\n",
      "22264780.0     1\n",
      "40115.26_      1\n",
      "16968473.0     1\n",
      "71980.26_      1\n",
      "Name: Annual_Income, Length: 21192, dtype: int64\n",
      "Variavel:  Monthly_Inhand_Salary\n",
      "--------------------\n",
      "NaN            22500\n",
      "2295.058333       22\n",
      "6082.187500       22\n",
      "6358.956667       21\n",
      "3080.555000       21\n",
      "               ...  \n",
      "7047.111658        1\n",
      "2731.559963        1\n",
      "1295.107500        1\n",
      "6376.020530        1\n",
      "930.454797         1\n",
      "Name: Monthly_Inhand_Salary, Length: 13684, dtype: int64\n",
      "Variavel:  Num_Bank_Accounts\n",
      "--------------------\n",
      "6       19505\n",
      "7       19231\n",
      "8       19152\n",
      "4       18286\n",
      "5       18186\n",
      "        ...  \n",
      "186         1\n",
      "442         1\n",
      "698         1\n",
      "1210        1\n",
      "1535        1\n",
      "Name: Num_Bank_Accounts, Length: 1183, dtype: int64\n",
      "Variavel:  Num_Credit_Card\n",
      "--------------------\n",
      "5       27669\n",
      "7       24886\n",
      "6       24802\n",
      "4       21102\n",
      "3       19816\n",
      "        ...  \n",
      "343         1\n",
      "1494        1\n",
      "1110        1\n",
      "260         1\n",
      "1327        1\n",
      "Name: Num_Credit_Card, Length: 1344, dtype: int64\n",
      "Variavel:  Interest_Rate\n",
      "--------------------\n",
      "8       7515\n",
      "5       7479\n",
      "6       7089\n",
      "12      6828\n",
      "10      6799\n",
      "        ... \n",
      "1582       1\n",
      "5676       1\n",
      "3503       1\n",
      "1326       1\n",
      "4094       1\n",
      "Name: Interest_Rate, Length: 2394, dtype: int64\n",
      "Variavel:  Num_of_Loan\n",
      "--------------------\n",
      "3      21500\n",
      "2      21423\n",
      "4      20998\n",
      "0      15543\n",
      "1      15112\n",
      "       ...  \n",
      "515        1\n",
      "492        1\n",
      "186        1\n",
      "983        1\n",
      "256        1\n",
      "Name: Num_of_Loan, Length: 623, dtype: int64\n",
      "Variavel:  Type_of_Loan\n",
      "--------------------\n",
      "NaN                                                                                                                                               17112\n",
      "Not Specified                                                                                                                                      2112\n",
      "Credit-Builder Loan                                                                                                                                1920\n",
      "Personal Loan                                                                                                                                      1908\n",
      "Debt Consolidation Loan                                                                                                                            1896\n",
      "                                                                                                                                                  ...  \n",
      "Mortgage Loan, Credit-Builder Loan, Home Equity Loan, Auto Loan, Mortgage Loan, Mortgage Loan, and Mortgage Loan                                     12\n",
      "Home Equity Loan, Debt Consolidation Loan, Auto Loan, Auto Loan, Credit-Builder Loan, Mortgage Loan, Home Equity Loan, and Credit-Builder Loan       12\n",
      "Mortgage Loan, Student Loan, Mortgage Loan, Home Equity Loan, and Payday Loan                                                                        12\n",
      "Auto Loan, Credit-Builder Loan, Credit-Builder Loan, Not Specified, Debt Consolidation Loan, and Mortgage Loan                                       12\n",
      "Payday Loan, Home Equity Loan, Student Loan, Mortgage Loan, and Mortgage Loan                                                                        12\n",
      "Name: Type_of_Loan, Length: 6261, dtype: int64\n",
      "Variavel:  Delay_from_due_date\n",
      "--------------------\n",
      " 15    5355\n",
      " 13    5185\n",
      " 8     5004\n",
      " 14    4949\n",
      " 10    4926\n",
      "       ... \n",
      " 63      90\n",
      " 65      86\n",
      "-5       51\n",
      " 66      44\n",
      " 67      29\n",
      "Name: Delay_from_due_date, Length: 73, dtype: int64\n",
      "Variavel:  Num_of_Delayed_Payment\n",
      "--------------------\n",
      "NaN     10500\n",
      "19       7949\n",
      "17       7806\n",
      "16       7721\n",
      "15       7671\n",
      "        ...  \n",
      "3489        1\n",
      "1921        1\n",
      "4239        1\n",
      "97_         1\n",
      "337         1\n",
      "Name: Num_of_Delayed_Payment, Length: 1059, dtype: int64\n",
      "Variavel:  Changed_Credit_Limit\n",
      "--------------------\n",
      "_                     3150\n",
      "11.5                   197\n",
      "8.22                   189\n",
      "11.32                  189\n",
      "7.35                   181\n",
      "                      ... \n",
      "-3.73                    1\n",
      "26.41                    1\n",
      "1.5600000000000005       1\n",
      "-5.57                    1\n",
      "31.45                    1\n",
      "Name: Changed_Credit_Limit, Length: 4605, dtype: int64\n",
      "Variavel:  Num_Credit_Inquiries\n",
      "--------------------\n",
      "4.0       15673\n",
      "6.0       12486\n",
      "3.0       12356\n",
      "7.0       12353\n",
      "8.0       11788\n",
      "          ...  \n",
      "1408.0        1\n",
      "2304.0        1\n",
      "1578.0        1\n",
      "2450.0        1\n",
      "1174.0        1\n",
      "Name: Num_Credit_Inquiries, Length: 1608, dtype: int64\n",
      "Variavel:  Credit_Mix\n",
      "--------------------\n",
      "Standard    54858\n",
      "Good        36597\n",
      "_           30000\n",
      "Bad         28545\n",
      "Name: Credit_Mix, dtype: int64\n",
      "Variavel:  Outstanding_Debt\n",
      "--------------------\n",
      "1360.45     36\n",
      "1109.03     35\n",
      "1151.7      35\n",
      "460.46      35\n",
      "611.96      24\n",
      "            ..\n",
      "66.93_       1\n",
      "1453.61_     1\n",
      "1254.45_     1\n",
      "3077.57_     1\n",
      "409.12_      1\n",
      "Name: Outstanding_Debt, Length: 13622, dtype: int64\n",
      "Variavel:  Credit_Utilization_Ratio\n",
      "--------------------\n",
      "25.980072    1\n",
      "30.132101    1\n",
      "35.529467    1\n",
      "30.378928    1\n",
      "37.136931    1\n",
      "            ..\n",
      "26.673121    1\n",
      "35.285431    1\n",
      "30.884916    1\n",
      "28.008613    1\n",
      "38.465296    1\n",
      "Name: Credit_Utilization_Ratio, Length: 150000, dtype: int64\n",
      "Variavel:  Credit_History_Age\n",
      "--------------------\n",
      "NaN                       13500\n",
      "17 Years and 11 Months      628\n",
      "18 Years and 4 Months       621\n",
      "18 Years and 3 Months       617\n",
      "19 Years and 9 Months       615\n",
      "                          ...  \n",
      "0 Years and 3 Months         20\n",
      "0 Years and 2 Months         15\n",
      "33 Years and 11 Months       15\n",
      "34 Years and 0 Months        14\n",
      "0 Years and 1 Months          2\n",
      "Name: Credit_History_Age, Length: 409, dtype: int64\n",
      "Variavel:  Payment_of_Min_Amount\n",
      "--------------------\n",
      "Yes    78484\n",
      "No     53516\n",
      "NM     18000\n",
      "Name: Payment_of_Min_Amount, dtype: int64\n",
      "Variavel:  Total_EMI_per_month\n",
      "--------------------\n",
      "0.000000        15615\n",
      "127.415681         12\n",
      "31.729113          12\n",
      "50.622855          12\n",
      "33.146996          12\n",
      "                ...  \n",
      "42058.000000        1\n",
      "44562.000000        1\n",
      "37867.000000        1\n",
      "6931.000000         1\n",
      "1145.203564         1\n",
      "Name: Total_EMI_per_month, Length: 16960, dtype: int64\n",
      "Variavel:  Amount_invested_monthly\n",
      "--------------------\n",
      "NaN                   6750\n",
      "__10000__             6480\n",
      "0.0                    275\n",
      "42.976041006176224       1\n",
      "301.44471156548235       1\n",
      "                      ... \n",
      "99.16278901368744        1\n",
      "83.35362165687552        1\n",
      "104.17691023142356       1\n",
      "135.50353282410134       1\n",
      "161.07776768033006       1\n",
      "Name: Amount_invested_monthly, Length: 136498, dtype: int64\n",
      "Variavel:  Payment_Behaviour\n",
      "--------------------\n",
      "Low_spent_Small_value_payments      38207\n",
      "High_spent_Medium_value_payments    26462\n",
      "Low_spent_Medium_value_payments     20698\n",
      "High_spent_Large_value_payments     20565\n",
      "High_spent_Small_value_payments     16991\n",
      "Low_spent_Large_value_payments      15677\n",
      "!@9#%8                              11400\n",
      "Name: Payment_Behaviour, dtype: int64\n",
      "Variavel:  Monthly_Balance\n",
      "--------------------\n",
      "NaN                                 1762\n",
      "__-333333333333333333333333333__      15\n",
      "207.25604032543592                     1\n",
      "498.9564539301326                      1\n",
      "214.94874942054545                     1\n",
      "                                    ... \n",
      "167.87289140095243                     1\n",
      "407.49946987210404                     1\n",
      "330.38640156921065                     1\n",
      "271.88902429079394                     1\n",
      "396.2470685318507                      1\n",
      "Name: Monthly_Balance, Length: 148225, dtype: int64\n",
      "Variavel:  Credit_Score\n",
      "--------------------\n",
      "Standard    53174\n",
      "NaN         50000\n",
      "Poor        28998\n",
      "Good        17828\n",
      "Name: Credit_Score, dtype: int64\n",
      "Variavel:  test\n",
      "--------------------\n",
      "0    100000\n",
      "1     50000\n",
      "Name: test, dtype: int64\n"
     ]
    }
   ],
   "source": [
    "colunas = df_total.columns\n",
    "\n",
    "for coluna in colunas:\n",
    "    print('Variavel: ', coluna)\n",
    "    print(20*'-')\n",
    "    print(df_total[coluna].value_counts(dropna=False))"
   ]
  },
  {
   "cell_type": "markdown",
   "metadata": {},
   "source": [
    "### Observações\n",
    "\n",
    "1. Colunas numéricas com \"_\" ok\n",
    "    * Age,\n",
    "    * Annual_Income,\n",
    "    * Monthly_Inhand_Salary,\n",
    "    * Num_Bank_Accounts,\n",
    "    * Num_Credit_Card,\n",
    "    * Interest_Rate\n",
    "    * Num_of_Loan\n",
    "    * Delay_from_due_date\n",
    "    * Num_of_Delayed_Payment\n",
    "    * Changed_Credit_Limit\n",
    "    * Num_Credit_Inquiries\n",
    "    * Outstanding_Debt\n",
    "    * Credit_Utilization_Ratio\n",
    "    * Total_EMI_per_month\n",
    "    * Amount_invested_monthly\n",
    "    * Monthly_Balance\n",
    "2. SSN #F%$D@*&8 ok\n",
    "3. Occupation _______ ok\n",
    "4. Type_of_Loan - transformar em lista e indexar\n",
    "5. Changed_Credit_Limit \"_\" -> NaN ok\n",
    "6. Credit_Mix \"_\" -> NaN ok\n",
    "7. Credit_History_Age Transformar em qtd. Meses\n",
    "8. Payment_of_Min_Amount \"NM\" -> NaN ok\n",
    "9. Payment_Behaviour \"!@9#%8\" -> NaN e transformar dado ok"
   ]
  },
  {
   "cell_type": "markdown",
   "metadata": {},
   "source": [
    "## ajustando os campos númericos que estão definidos como string por terem underlines em alguns registros"
   ]
  },
  {
   "cell_type": "code",
   "execution_count": 9,
   "metadata": {},
   "outputs": [
    {
     "name": "stderr",
     "output_type": "stream",
     "text": [
      "<ipython-input-9-307ac66e0f28>:6: FutureWarning: The default value of regex will change from True to False in a future version.\n",
      "  df_total[row] = df_total[row].str.replace(r'_+', '')\n"
     ]
    }
   ],
   "source": [
    "# Campos númericos que estão como string - retirar underline dos numeros\n",
    "\n",
    "colunas_ul = ['Age', 'Annual_Income', 'Num_of_Loan', 'Num_of_Delayed_Payment',\n",
    "              'Changed_Credit_Limit', 'Outstanding_Debt', 'Amount_invested_monthly', 'Monthly_Balance']\n",
    "for row in colunas_ul:\n",
    "    df_total[row] = df_total[row].str.replace(r'_+', '')"
   ]
  },
  {
   "cell_type": "markdown",
   "metadata": {},
   "source": [
    "## Data Wrangling"
   ]
  },
  {
   "cell_type": "code",
   "execution_count": 10,
   "metadata": {},
   "outputs": [],
   "source": [
    "# removendo caracter estranho do SSN\n",
    "df_total['SSN'].replace('#F%$D@*&8', np.NaN, inplace=True)"
   ]
  },
  {
   "cell_type": "code",
   "execution_count": 11,
   "metadata": {},
   "outputs": [],
   "source": [
    "# removendo os underlines e colocando NaN na coluna Occupation\n",
    "df_total['Occupation'].replace('_______', np.NaN, inplace=True)"
   ]
  },
  {
   "cell_type": "code",
   "execution_count": 12,
   "metadata": {},
   "outputs": [],
   "source": [
    "df_total['Changed_Credit_Limit'].replace(['_', ''], np.NaN, inplace=True)"
   ]
  },
  {
   "cell_type": "code",
   "execution_count": 13,
   "metadata": {},
   "outputs": [],
   "source": [
    "df_total['Credit_Mix'].replace('_', np.NaN, inplace=True)"
   ]
  },
  {
   "cell_type": "code",
   "execution_count": 14,
   "metadata": {},
   "outputs": [],
   "source": [
    "df_total['Payment_of_Min_Amount'].replace('NM', np.NaN, inplace=True)"
   ]
  },
  {
   "cell_type": "code",
   "execution_count": 15,
   "metadata": {},
   "outputs": [],
   "source": [
    "df_total['Payment_Behaviour'].replace('!@9#%8', np.NaN, inplace=True)"
   ]
  },
  {
   "cell_type": "code",
   "execution_count": 17,
   "metadata": {},
   "outputs": [],
   "source": [
    "# convertendo Credit_History_Age em quantidade de meses\n",
    "def converter_mes(x):\n",
    "    if pd.notnull(x):\n",
    "        ano = int(x.split(' ')[0])\n",
    "        mes = int(x.split(' ')[3])\n",
    "        return (ano*12)+mes\n",
    "    else:\n",
    "        return x\n",
    "\n",
    "df_total['Credit_History_age'] = df_total['Credit_History_Age'].apply(lambda x: converter_mes(x)).astype(float)"
   ]
  },
  {
   "cell_type": "code",
   "execution_count": 27,
   "metadata": {},
   "outputs": [],
   "source": [
    "df_total['Type_of_Loan_ajustado'] = df_total['Type_of_Loan'].replace(\"[abc]* and \", \" \", regex=True)"
   ]
  },
  {
   "cell_type": "markdown",
   "metadata": {},
   "source": [
    "## Checando a quantidade de nas nos dados"
   ]
  },
  {
   "cell_type": "code",
   "execution_count": 3,
   "metadata": {},
   "outputs": [
    {
     "ename": "NameError",
     "evalue": "name 'df_total' is not defined",
     "output_type": "error",
     "traceback": [
      "\u001b[1;31m---------------------------------------------------------------------------\u001b[0m",
      "\u001b[1;31mNameError\u001b[0m                                 Traceback (most recent call last)",
      "\u001b[1;32m<ipython-input-3-f62a8e907cd8>\u001b[0m in \u001b[0;36m<module>\u001b[1;34m\u001b[0m\n\u001b[1;32m----> 1\u001b[1;33m \u001b[0mplot_nas\u001b[0m\u001b[1;33m(\u001b[0m\u001b[0mdf_total\u001b[0m\u001b[1;33m)\u001b[0m\u001b[1;33m\u001b[0m\u001b[1;33m\u001b[0m\u001b[0m\n\u001b[0m",
      "\u001b[1;31mNameError\u001b[0m: name 'df_total' is not defined"
     ]
    }
   ],
   "source": [
    "plot_nas(df_total)"
   ]
  },
  {
   "cell_type": "markdown",
   "metadata": {},
   "source": [
    "## Convertendo as colunas para os tipos de variáveis que fazem sentido para o dado"
   ]
  },
  {
   "cell_type": "code",
   "execution_count": 4,
   "metadata": {},
   "outputs": [
    {
     "ename": "NameError",
     "evalue": "name 'df_total' is not defined",
     "output_type": "error",
     "traceback": [
      "\u001b[1;31m---------------------------------------------------------------------------\u001b[0m",
      "\u001b[1;31mNameError\u001b[0m                                 Traceback (most recent call last)",
      "\u001b[1;32m<ipython-input-4-0e672a1a39f3>\u001b[0m in \u001b[0;36m<module>\u001b[1;34m\u001b[0m\n\u001b[0;32m      1\u001b[0m \u001b[1;31m# aplicando as type para variaveis int\u001b[0m\u001b[1;33m\u001b[0m\u001b[1;33m\u001b[0m\u001b[1;33m\u001b[0m\u001b[0m\n\u001b[0;32m      2\u001b[0m \u001b[1;33m\u001b[0m\u001b[0m\n\u001b[1;32m----> 3\u001b[1;33m \u001b[0mdf_total\u001b[0m\u001b[1;33m[\u001b[0m\u001b[1;34m'Age'\u001b[0m\u001b[1;33m]\u001b[0m \u001b[1;33m=\u001b[0m \u001b[0mdf_total\u001b[0m\u001b[1;33m[\u001b[0m\u001b[1;34m'Age'\u001b[0m\u001b[1;33m]\u001b[0m\u001b[1;33m.\u001b[0m\u001b[0mastype\u001b[0m\u001b[1;33m(\u001b[0m\u001b[1;34m'int'\u001b[0m\u001b[1;33m)\u001b[0m\u001b[1;33m\u001b[0m\u001b[1;33m\u001b[0m\u001b[0m\n\u001b[0m\u001b[0;32m      4\u001b[0m \u001b[0mdf_total\u001b[0m\u001b[1;33m[\u001b[0m\u001b[1;34m'Num_Bank_Accounts'\u001b[0m\u001b[1;33m]\u001b[0m \u001b[1;33m=\u001b[0m \u001b[0mdf_total\u001b[0m\u001b[1;33m[\u001b[0m\u001b[1;34m'Num_Bank_Accounts'\u001b[0m\u001b[1;33m]\u001b[0m\u001b[1;33m.\u001b[0m\u001b[0mastype\u001b[0m\u001b[1;33m(\u001b[0m\u001b[1;34m'int'\u001b[0m\u001b[1;33m)\u001b[0m\u001b[1;33m\u001b[0m\u001b[1;33m\u001b[0m\u001b[0m\n\u001b[0;32m      5\u001b[0m \u001b[0mdf_total\u001b[0m\u001b[1;33m[\u001b[0m\u001b[1;34m'Num_Credit_Card'\u001b[0m\u001b[1;33m]\u001b[0m \u001b[1;33m=\u001b[0m \u001b[0mdf_total\u001b[0m\u001b[1;33m[\u001b[0m\u001b[1;34m'Num_Credit_Card'\u001b[0m\u001b[1;33m]\u001b[0m\u001b[1;33m.\u001b[0m\u001b[0mastype\u001b[0m\u001b[1;33m(\u001b[0m\u001b[1;34m'int'\u001b[0m\u001b[1;33m)\u001b[0m\u001b[1;33m\u001b[0m\u001b[1;33m\u001b[0m\u001b[0m\n",
      "\u001b[1;31mNameError\u001b[0m: name 'df_total' is not defined"
     ]
    }
   ],
   "source": [
    "# aplicando as type para variaveis int\n",
    "\n",
    "df_total['Age'] = df_total['Age'].astype('int')\n",
    "df_total['Num_Bank_Accounts'] = df_total['Num_Bank_Accounts'].astype('int')\n",
    "df_total['Num_Credit_Card'] = df_total['Num_Credit_Card'].astype('int')\n",
    "df_total['Num_of_Loan'] = df_total['Num_of_Loan'].astype('int')\n",
    "df_total['Num_of_Delayed_Payment'] = df_total['Num_of_Delayed_Payment'].astype('int', errors='ignore')\n",
    "\n",
    "# float\n",
    "\n",
    "df_total['Annual_Income'] = df_total['Annual_Income'].astype('float')\n",
    "df_total['Monthly_Inhand_Salary'] = df_total['Monthly_Inhand_Salary'].astype('float')\n",
    "df_total['Interest_Rate'] = df_total['Interest_Rate'].astype('float')\n",
    "df_total['Delay_from_due_date'] = df_total['Delay_from_due_date'].astype('float')\n",
    "df_total['Changed_Credit_Limit'] = df_total['Changed_Credit_Limit'].astype('float')\n",
    "df_total['Num_Credit_Inquiries'] = df_total['Num_Credit_Inquiries'].astype('float')\n",
    "df_total['Outstanding_Debt'] = df_total['Outstanding_Debt'].astype('float')\n",
    "df_total['Credit_Utilization_Ratio'] = df_total['Credit_Utilization_Ratio'].astype('float')\n",
    "df_total['Amount_invested_monthly'] = df_total['Amount_invested_monthly'].astype('float')\n",
    "df_total['Total_EMI_per_month'] = df_total['Total_EMI_per_month'].astype('float')\n",
    "\n",
    "# object\n",
    "\n",
    "df_total['Occupation'] = df_total['Occupation'].astype('object')\n",
    "df_total['Credit_Mix'] = df_total['Credit_Mix'].astype('object')\n",
    "df_total['Payment_of_Min_Amount'] = df_total['Payment_of_Min_Amount'].astype('object')\n",
    "df_total['Payment_Behaviour'] = df_total['Payment_Behaviour'].astype('object')"
   ]
  },
  {
   "cell_type": "code",
   "execution_count": null,
   "metadata": {},
   "outputs": [],
   "source": []
  }
 ],
 "metadata": {
  "kernelspec": {
   "display_name": "Python 3.8.5 ('base')",
   "language": "python",
   "name": "python3"
  },
  "language_info": {
   "codemirror_mode": {
    "name": "ipython",
    "version": 3
   },
   "file_extension": ".py",
   "mimetype": "text/x-python",
   "name": "python",
   "nbconvert_exporter": "python",
   "pygments_lexer": "ipython3",
   "version": "3.8.5"
  },
  "orig_nbformat": 4,
  "vscode": {
   "interpreter": {
    "hash": "a14e26651eb403ca465dd1ef7879063f8370318b38b691101b0a69f98ffc3667"
   }
  }
 },
 "nbformat": 4,
 "nbformat_minor": 2
}
