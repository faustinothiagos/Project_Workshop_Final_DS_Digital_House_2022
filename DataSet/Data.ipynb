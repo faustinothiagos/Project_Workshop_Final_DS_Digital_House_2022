{
 "cells": [
  {
   "cell_type": "markdown",
   "id": "e4db0be7-9b3f-4a39-b356-b27977e155ab",
   "metadata": {},
   "source": [
    "## Como importar o dataset que usamos"
   ]
  },
  {
   "cell_type": "markdown",
   "id": "ea725dce-4a7d-4a1e-be67-84f613c7b7ef",
   "metadata": {},
   "source": [
    "1 - Crie um novo projeto no Google Cloud ( <https://console.cloud.google.com/projectselector2/home/dashboard> )\n",
    "\n",
    "* Clique em \"selecione um projeto\" em cima de \"Painel\";\n",
    "\n",
    "<img src='images/01.png' align='center' width=60%/>\n",
    "----------------------------------------------------------------------------------\n",
    "\n",
    "* Clique em \"novo projeto\";\n",
    "\n",
    "<img src='images/02.png' align='center' width=60%/>\n",
    "----------------------------------------------------------------------------------\n",
    "\n",
    "* Dê um nome ao seu projeto e clique em criar;\n",
    "\n",
    "<img src='images/03.png' align='center' width=60%/>\n",
    "----------------------------------------------------------------------------------\n",
    "\n",
    "* Verifique o seu \"ID do projeto\".\n",
    "\n",
    "<img src='images/04.png' align='center' width=60%/>"
   ]
  },
  {
   "cell_type": "markdown",
   "id": "314044fb-0609-48a0-ab5d-b2b87689ebcf",
   "metadata": {},
   "source": [
    "   "
   ]
  },
  {
   "cell_type": "markdown",
   "id": "d456fadf-98c3-4afd-a883-0b6616186294",
   "metadata": {},
   "source": [
    "    "
   ]
  },
  {
   "cell_type": "markdown",
   "id": "4457703b-011c-4ff8-8140-24ee557732e9",
   "metadata": {},
   "source": [
    "2 - Abra o notebook e rode o código para instalar o pacote da base de dados do ministério da saúde:\n",
    "\n",
    "<span style=\"color:red\">\"pip install basedosdados\"<span>"
   ]
  },
  {
   "cell_type": "markdown",
   "id": "a637cdf8-4c70-44c2-aa4f-1e843ae3b1e4",
   "metadata": {},
   "source": [
    "    "
   ]
  },
  {
   "cell_type": "markdown",
   "id": "6584f688-850a-4cf3-8413-d380a4bf8d44",
   "metadata": {},
   "source": [
    "3 - Use esse comando para importar a base de dados que usaremos nesse dataset:"
   ]
  },
  {
   "cell_type": "code",
   "execution_count": null,
   "id": "9fdc5630-4a2c-43a3-9b07-9d2488eb6714",
   "metadata": {},
   "outputs": [],
   "source": [
    "import basedosdados as bd\n",
    "\n",
    "# Para carregar o dado direto no pandas\n",
    "df = bd.read_table(dataset_id='br_ms_sinan',\n",
    "table_id='microdados_violencia',\n",
    "billing_project_id=\"YOUR_PROJECT_ID\")"
   ]
  },
  {
   "cell_type": "markdown",
   "id": "045d3704-02be-405c-8f0b-be12019e0b26",
   "metadata": {},
   "source": [
    "No lugar de \" YOUR_PROJECT_ID \" coloque o ID do seu projeto disponível na página do Projeto no Google Cloud e com isso você importa seu dataset."
   ]
  }
 ],
 "metadata": {
  "kernelspec": {
   "display_name": "Python 3.8.13 ('dhdsblend2022_main')",
   "language": "python",
   "name": "python3"
  },
  "language_info": {
   "codemirror_mode": {
    "name": "ipython",
    "version": 3
   },
   "file_extension": ".py",
   "mimetype": "text/x-python",
   "name": "python",
   "nbconvert_exporter": "python",
   "pygments_lexer": "ipython3",
   "version": "3.8.13"
  },
  "vscode": {
   "interpreter": {
    "hash": "ec83e88ed8cedc03773fa1fb0e0d95e2e49f6d25892556d2f805fe0a6e2f7215"
   }
  }
 },
 "nbformat": 4,
 "nbformat_minor": 5
}
